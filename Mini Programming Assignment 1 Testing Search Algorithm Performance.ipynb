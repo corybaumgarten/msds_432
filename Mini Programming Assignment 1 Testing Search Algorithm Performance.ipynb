{
 "cells": [
  {
   "cell_type": "markdown",
   "metadata": {},
   "source": [
    "## Mini Programming Assignment 1: Testing Search Algorithm Performance"
   ]
  },
  {
   "cell_type": "markdown",
   "metadata": {},
   "source": [
    "Close all running applications in your system, so that only these applications are active in addition to usual operating system and its utilities: (1) Python application (Anaconda Jupyter Notebook), (2) Text editor if desired (VS Code recommended), and (3) file management utility (Terminal on Mac OSX or GitBash or command window on Windows). All work on the assignment should be completed within Jupyter notebook, with separate paragraphs of Python code and text for each of part of the assignment, as described here.\n"
   ]
  },
  {
   "cell_type": "markdown",
   "metadata": {},
   "source": [
    "Begin with the base code for sequential/linear and binary search as described in chapter 1 of Grokking Algorithms (Bhargava 2016).\n",
    "\n",
    "Source: https://github.com/egonSchiele/grokking_algorithms/blob/master/01_introduction_to_algorithms/python/01_binary_search.py"
   ]
  },
  {
   "cell_type": "code",
   "execution_count": 1,
   "metadata": {},
   "outputs": [],
   "source": [
    "def binary_search(list, item):\n",
    "  # low and high keep track of which part of the list you'll search in.\n",
    "  low = 0\n",
    "  high = len(list) - 1\n",
    "\n",
    "  # While you haven't narrowed it down to one element ...\n",
    "  while low <= high:\n",
    "    # ... check the middle element\n",
    "    mid = (low + high) // 2\n",
    "    guess = list[mid]\n",
    "    # Found the item.\n",
    "    if guess == item:\n",
    "      return mid\n",
    "    # The guess was too high.\n",
    "    if guess > item:\n",
    "      high = mid - 1\n",
    "    # The guess was too low.\n",
    "    else:\n",
    "      low = mid + 1\n",
    "\n",
    "  # Item doesn't exist\n",
    "  return None"
   ]
  },
  {
   "cell_type": "markdown",
   "metadata": {},
   "source": [
    "Set up five arrays of random numbers of different sizes i.e. 512 numbers, 1024 numbers, 2048 numbers, 4096 numbers, and 8192 numbers using a uniform random number generator. Ensure that a common random number seed is used to generate each of the arrays."
   ]
  },
  {
   "cell_type": "code",
   "execution_count": 2,
   "metadata": {},
   "outputs": [],
   "source": [
    "import numpy as np\n",
    "from numpy.random import seed\n",
    "\n",
    "seed(123)\n",
    "ar1 = np.random.uniform(0,10000,512)\n",
    "\n",
    "seed(123)\n",
    "ar2 = np.random.uniform(0,10000,1024)\n",
    "\n",
    "seed(123)\n",
    "ar3 = np.random.uniform(0,10000,2048)\n",
    "\n",
    "seed(123)\n",
    "ar4 = np.random.uniform(0,10000,4096)\n",
    "\n",
    "seed(123)\n",
    "ar5 = np.random.uniform(0,10000,8192)"
   ]
  },
  {
   "cell_type": "markdown",
   "metadata": {},
   "source": [
    "Sort each of the random number arrays from smallest to largest."
   ]
  },
  {
   "cell_type": "code",
   "execution_count": 3,
   "metadata": {},
   "outputs": [],
   "source": [
    "ar1.sort()\n",
    "ar2.sort()\n",
    "ar3.sort()\n",
    "ar4.sort()\n",
    "ar5.sort()"
   ]
  },
  {
   "cell_type": "markdown",
   "metadata": {},
   "source": [
    "Execute the base algorithm for each of the random number arrays, noting the execution time with each execution. With each execution use the maximum value of the random number array as the number for which you are searching."
   ]
  },
  {
   "cell_type": "code",
   "execution_count": 4,
   "metadata": {},
   "outputs": [],
   "source": [
    "bs1 = binary_search(ar1,max(ar1))\n",
    "bs2 = binary_search(ar2,max(ar2))\n",
    "bs3 = binary_search(ar3,max(ar3))\n",
    "bs4 = binary_search(ar4,max(ar4))\n",
    "bs5 = binary_search(ar5,max(ar5))"
   ]
  },
  {
   "cell_type": "code",
   "execution_count": 5,
   "metadata": {},
   "outputs": [
    {
     "name": "stdout",
     "output_type": "stream",
     "text": [
      "40.6 ns ± 0.983 ns per loop (mean ± std. dev. of 7 runs, 10000000 loops each)\n",
      "52.2 ns ± 0.706 ns per loop (mean ± std. dev. of 7 runs, 10000000 loops each)\n",
      "41.4 ns ± 0.517 ns per loop (mean ± std. dev. of 7 runs, 10000000 loops each)\n",
      "40.6 ns ± 1.71 ns per loop (mean ± std. dev. of 7 runs, 10000000 loops each)\n",
      "38 ns ± 0.866 ns per loop (mean ± std. dev. of 7 runs, 10000000 loops each)\n"
     ]
    }
   ],
   "source": [
    "# execution time\n",
    "%timeit bs1\n",
    "%timeit bs2\n",
    "%timeit bs3\n",
    "%timeit bs4\n",
    "%timeit bs5"
   ]
  },
  {
   "cell_type": "markdown",
   "metadata": {},
   "source": [
    "### Binary Search time (in milliseconds)"
   ]
  },
  {
   "cell_type": "code",
   "execution_count": 6,
   "metadata": {},
   "outputs": [
    {
     "name": "stdout",
     "output_type": "stream",
     "text": [
      "0.06103515625\n"
     ]
    }
   ],
   "source": [
    "import time\n",
    "\n",
    "# Binary Search Execution Time\n",
    "\n",
    "start = time.time()\n",
    "bs1\n",
    "end = time.time()\n",
    "bs_ms1 = (end - start)*1000\n",
    "print(bs_ms1)"
   ]
  },
  {
   "cell_type": "code",
   "execution_count": 7,
   "metadata": {},
   "outputs": [
    {
     "name": "stdout",
     "output_type": "stream",
     "text": [
      "0.06604194641113281\n"
     ]
    }
   ],
   "source": [
    "start = time.time()\n",
    "bs2\n",
    "end = time.time()\n",
    "bs_ms2 = (end - start)*1000\n",
    "print(bs_ms2)"
   ]
  },
  {
   "cell_type": "code",
   "execution_count": 8,
   "metadata": {},
   "outputs": [
    {
     "name": "stdout",
     "output_type": "stream",
     "text": [
      "0.06389617919921875\n"
     ]
    }
   ],
   "source": [
    "start = time.time()\n",
    "bs3\n",
    "end = time.time()\n",
    "bs_ms3 = (end - start)*1000\n",
    "print(bs_ms3)"
   ]
  },
  {
   "cell_type": "code",
   "execution_count": 9,
   "metadata": {},
   "outputs": [
    {
     "name": "stdout",
     "output_type": "stream",
     "text": [
      "0.06389617919921875\n"
     ]
    }
   ],
   "source": [
    "start = time.time()\n",
    "bs4\n",
    "end = time.time()\n",
    "bs_ms4 = (end - start)*1000\n",
    "print(bs_ms4)"
   ]
  },
  {
   "cell_type": "code",
   "execution_count": 10,
   "metadata": {},
   "outputs": [
    {
     "name": "stdout",
     "output_type": "stream",
     "text": [
      "0.06389617919921875\n"
     ]
    }
   ],
   "source": [
    "start = time.time()\n",
    "bs5\n",
    "end = time.time()\n",
    "bs_ms5 = (end - start)*1000\n",
    "print(bs_ms5)"
   ]
  },
  {
   "cell_type": "markdown",
   "metadata": {},
   "source": [
    "### Sort time (in milliseconds)"
   ]
  },
  {
   "cell_type": "code",
   "execution_count": 11,
   "metadata": {},
   "outputs": [
    {
     "name": "stdout",
     "output_type": "stream",
     "text": [
      "0.08511543273925781\n"
     ]
    }
   ],
   "source": [
    "start = time.time()\n",
    "ar1.sort()\n",
    "end = time.time()\n",
    "sort_ms1 = (end - start)*1000\n",
    "print(sort_ms1)"
   ]
  },
  {
   "cell_type": "code",
   "execution_count": 12,
   "metadata": {},
   "outputs": [
    {
     "name": "stdout",
     "output_type": "stream",
     "text": [
      "0.09322166442871094\n"
     ]
    }
   ],
   "source": [
    "start = time.time()\n",
    "ar2.sort()\n",
    "end = time.time()\n",
    "sort_ms2 = (end - start)*1000\n",
    "print(sort_ms2)"
   ]
  },
  {
   "cell_type": "code",
   "execution_count": 13,
   "metadata": {},
   "outputs": [
    {
     "name": "stdout",
     "output_type": "stream",
     "text": [
      "0.11014938354492188\n"
     ]
    }
   ],
   "source": [
    "start = time.time()\n",
    "ar3.sort()\n",
    "end = time.time()\n",
    "sort_ms3 = (end - start)*1000\n",
    "print(sort_ms3)"
   ]
  },
  {
   "cell_type": "code",
   "execution_count": 14,
   "metadata": {},
   "outputs": [
    {
     "name": "stdout",
     "output_type": "stream",
     "text": [
      "0.1850128173828125\n"
     ]
    }
   ],
   "source": [
    "start = time.time()\n",
    "ar4.sort()\n",
    "end = time.time()\n",
    "sort_ms4 = (end - start)*1000\n",
    "print(sort_ms4)"
   ]
  },
  {
   "cell_type": "code",
   "execution_count": 15,
   "metadata": {},
   "outputs": [
    {
     "name": "stdout",
     "output_type": "stream",
     "text": [
      "0.2181529998779297\n"
     ]
    }
   ],
   "source": [
    "start = time.time()\n",
    "ar5.sort()\n",
    "end = time.time()\n",
    "sort_ms5 = (end - start)*1000\n",
    "print(sort_ms5)"
   ]
  },
  {
   "cell_type": "markdown",
   "metadata": {},
   "source": [
    "### Linear search time for sorted array (in milliseconds)"
   ]
  },
  {
   "cell_type": "code",
   "execution_count": 16,
   "metadata": {},
   "outputs": [],
   "source": [
    "# Linear search function\n",
    "\n",
    "def linearSearch(alist, item):\n",
    "    pos = 0\n",
    "    found = False\n",
    "\n",
    "    while pos < len(alist) and not found:\n",
    "        if alist[pos] == item:\n",
    "            found = True\n",
    "        else:\n",
    "            pos = pos + 1\n",
    "\n",
    "    return found"
   ]
  },
  {
   "cell_type": "code",
   "execution_count": 17,
   "metadata": {},
   "outputs": [],
   "source": [
    "ls1 = linearSearch(ar1,max(ar1))\n",
    "ls2 = linearSearch(ar2,max(ar2))\n",
    "ls3 = linearSearch(ar3,max(ar3))\n",
    "ls4 = linearSearch(ar4,max(ar4))\n",
    "ls5 = linearSearch(ar5,max(ar5))"
   ]
  },
  {
   "cell_type": "code",
   "execution_count": 18,
   "metadata": {},
   "outputs": [
    {
     "name": "stdout",
     "output_type": "stream",
     "text": [
      "0.0629425048828125\n"
     ]
    }
   ],
   "source": [
    "# Linear Search Execution Time\n",
    "\n",
    "start = time.time()\n",
    "ls1\n",
    "end = time.time()\n",
    "ls_ms1 = (end - start)*1000\n",
    "print(ls_ms1)"
   ]
  },
  {
   "cell_type": "code",
   "execution_count": 19,
   "metadata": {},
   "outputs": [
    {
     "name": "stdout",
     "output_type": "stream",
     "text": [
      "0.06508827209472656\n"
     ]
    }
   ],
   "source": [
    "start = time.time()\n",
    "ls2\n",
    "end = time.time()\n",
    "ls_ms2 = (end - start)*1000\n",
    "print(ls_ms2)"
   ]
  },
  {
   "cell_type": "code",
   "execution_count": 20,
   "metadata": {},
   "outputs": [
    {
     "name": "stdout",
     "output_type": "stream",
     "text": [
      "0.06198883056640625\n"
     ]
    }
   ],
   "source": [
    "start = time.time()\n",
    "ls3\n",
    "end = time.time()\n",
    "ls_ms3 = (end - start)*1000\n",
    "print(ls_ms3)"
   ]
  },
  {
   "cell_type": "code",
   "execution_count": 21,
   "metadata": {},
   "outputs": [
    {
     "name": "stdout",
     "output_type": "stream",
     "text": [
      "0.064849853515625\n"
     ]
    }
   ],
   "source": [
    "start = time.time()\n",
    "ls4\n",
    "end = time.time()\n",
    "ls_ms4 = (end - start)*1000\n",
    "print(ls_ms4)"
   ]
  },
  {
   "cell_type": "code",
   "execution_count": 22,
   "metadata": {},
   "outputs": [
    {
     "name": "stdout",
     "output_type": "stream",
     "text": [
      "0.06198883056640625\n"
     ]
    }
   ],
   "source": [
    "start = time.time()\n",
    "ls5\n",
    "end = time.time()\n",
    "ls_ms5 = (end - start)*1000\n",
    "print(ls_ms5)"
   ]
  },
  {
   "cell_type": "markdown",
   "metadata": {},
   "source": [
    "### Binary search time for sorted array (in milliseconds)"
   ]
  },
  {
   "cell_type": "code",
   "execution_count": 23,
   "metadata": {},
   "outputs": [
    {
     "name": "stdout",
     "output_type": "stream",
     "text": [
      "0.0629425048828125\n"
     ]
    }
   ],
   "source": [
    "# Binary Search Execution Time\n",
    "\n",
    "start = time.time()\n",
    "bs1\n",
    "end = time.time()\n",
    "bs_ms1 = (end - start)*1000\n",
    "print(bs_ms1)"
   ]
  },
  {
   "cell_type": "code",
   "execution_count": 24,
   "metadata": {},
   "outputs": [
    {
     "name": "stdout",
     "output_type": "stream",
     "text": [
      "0.0629425048828125\n"
     ]
    }
   ],
   "source": [
    "start = time.time()\n",
    "bs2\n",
    "end = time.time()\n",
    "bs_ms2 = (end - start)*1000\n",
    "print(bs_ms2)"
   ]
  },
  {
   "cell_type": "code",
   "execution_count": 25,
   "metadata": {},
   "outputs": [
    {
     "name": "stdout",
     "output_type": "stream",
     "text": [
      "0.06318092346191406\n"
     ]
    }
   ],
   "source": [
    "start = time.time()\n",
    "bs3\n",
    "end = time.time()\n",
    "bs_ms3 = (end - start)*1000\n",
    "print(bs_ms3)"
   ]
  },
  {
   "cell_type": "code",
   "execution_count": 26,
   "metadata": {},
   "outputs": [
    {
     "name": "stdout",
     "output_type": "stream",
     "text": [
      "0.0629425048828125\n"
     ]
    }
   ],
   "source": [
    "start = time.time()\n",
    "bs4\n",
    "end = time.time()\n",
    "bs_ms4 = (end - start)*1000\n",
    "print(bs_ms4)"
   ]
  },
  {
   "cell_type": "code",
   "execution_count": 27,
   "metadata": {},
   "outputs": [
    {
     "name": "stdout",
     "output_type": "stream",
     "text": [
      "0.0629425048828125\n"
     ]
    }
   ],
   "source": [
    "start = time.time()\n",
    "bs5\n",
    "end = time.time()\n",
    "bs_ms5 = (end - start)*1000\n",
    "print(bs_ms5)"
   ]
  },
  {
   "cell_type": "markdown",
   "metadata": {},
   "source": [
    "### Linear search plus sort times (in milliseconds)"
   ]
  },
  {
   "cell_type": "code",
   "execution_count": 28,
   "metadata": {},
   "outputs": [
    {
     "name": "stdout",
     "output_type": "stream",
     "text": [
      "0.1480579376220703\n"
     ]
    }
   ],
   "source": [
    "lsps1 = sort_ms1+ls_ms1\n",
    "print(lsps1)"
   ]
  },
  {
   "cell_type": "code",
   "execution_count": 29,
   "metadata": {},
   "outputs": [
    {
     "name": "stdout",
     "output_type": "stream",
     "text": [
      "0.1583099365234375\n"
     ]
    }
   ],
   "source": [
    "lsps2 = sort_ms2+ls_ms2\n",
    "print(lsps2)"
   ]
  },
  {
   "cell_type": "code",
   "execution_count": 30,
   "metadata": {},
   "outputs": [
    {
     "name": "stdout",
     "output_type": "stream",
     "text": [
      "0.17213821411132812\n"
     ]
    }
   ],
   "source": [
    "lsps3 = sort_ms3+ls_ms3\n",
    "print(lsps3)"
   ]
  },
  {
   "cell_type": "code",
   "execution_count": 31,
   "metadata": {},
   "outputs": [
    {
     "name": "stdout",
     "output_type": "stream",
     "text": [
      "0.2498626708984375\n"
     ]
    }
   ],
   "source": [
    "lsps4 = sort_ms4+ls_ms4\n",
    "print(lsps4)"
   ]
  },
  {
   "cell_type": "code",
   "execution_count": 32,
   "metadata": {},
   "outputs": [
    {
     "name": "stdout",
     "output_type": "stream",
     "text": [
      "0.28014183044433594\n"
     ]
    }
   ],
   "source": [
    "lsps5 = sort_ms5+ls_ms5\n",
    "print(lsps5)"
   ]
  },
  {
   "cell_type": "markdown",
   "metadata": {},
   "source": [
    "### Binary search plus sort times (in milliseconds)"
   ]
  },
  {
   "cell_type": "code",
   "execution_count": 33,
   "metadata": {},
   "outputs": [
    {
     "name": "stdout",
     "output_type": "stream",
     "text": [
      "0.1480579376220703\n"
     ]
    }
   ],
   "source": [
    "bsps1 = bs_ms1+sort_ms1\n",
    "print(bsps1)"
   ]
  },
  {
   "cell_type": "code",
   "execution_count": 34,
   "metadata": {},
   "outputs": [
    {
     "name": "stdout",
     "output_type": "stream",
     "text": [
      "0.15616416931152344\n"
     ]
    }
   ],
   "source": [
    "bsps2 = bs_ms2+sort_ms2\n",
    "print(bsps2)"
   ]
  },
  {
   "cell_type": "code",
   "execution_count": 35,
   "metadata": {},
   "outputs": [
    {
     "name": "stdout",
     "output_type": "stream",
     "text": [
      "0.17333030700683594\n"
     ]
    }
   ],
   "source": [
    "bsps3 = bs_ms3+sort_ms3\n",
    "print(bsps3)"
   ]
  },
  {
   "cell_type": "code",
   "execution_count": 36,
   "metadata": {},
   "outputs": [
    {
     "name": "stdout",
     "output_type": "stream",
     "text": [
      "0.247955322265625\n"
     ]
    }
   ],
   "source": [
    "bsps4 = bs_ms4+sort_ms4\n",
    "print(bsps4)"
   ]
  },
  {
   "cell_type": "code",
   "execution_count": 37,
   "metadata": {},
   "outputs": [
    {
     "name": "stdout",
     "output_type": "stream",
     "text": [
      "0.2810955047607422\n"
     ]
    }
   ],
   "source": [
    "bsps5 = bs_ms5+sort_ms5\n",
    "print(bsps5)"
   ]
  },
  {
   "cell_type": "markdown",
   "metadata": {},
   "source": [
    "Use Python (perhaps with the Pandas package) to prepare a six-column array showing the length of the random number array in column (1) and execution time in milliseconds in the remaining columns as follows: (2) sort time, (3) linear search time for sorted array, (4) binary search time for sorted array, (5) linear search plus sort times, and (6) binary search plus sort times."
   ]
  },
  {
   "cell_type": "code",
   "execution_count": 47,
   "metadata": {},
   "outputs": [],
   "source": [
    "# Length of random number array\n",
    "col1 = [len(ar1),len(ar2),len(ar3),len(ar4),len(ar5)]\n",
    "\n",
    "# Sort time (in milliseconds)\n",
    "col2 = [sort_ms1,sort_ms2,sort_ms3,sort_ms4,sort_ms5]\n",
    "\n",
    "# Linear search time for sorted array (in milliseconds)\n",
    "col3 = [ls_ms1,ls_ms2,ls_ms3,ls_ms4,ls_ms5]\n",
    "\n",
    "# Binary search time for sorted array (in milliseconds)\n",
    "col4 = [bs_ms1,bs_ms2,bs_ms3,bs_ms4,bs_ms5]\n",
    "\n",
    "# Linear search plus sort times (in milliseconds)\n",
    "col5 = [lsps1,lsps2,lsps3,lsps4,lsps5]\n",
    "\n",
    "# Binary search plus sort times (in milliseconds)\n",
    "col6 = [bsps1,bsps2,bsps3,bsps4,bsps5]"
   ]
  },
  {
   "cell_type": "code",
   "execution_count": 56,
   "metadata": {},
   "outputs": [
    {
     "data": {
      "text/plain": [
       "array([5.12000000e+02, 1.02400000e+03, 2.04800000e+03, 4.09600000e+03,\n",
       "       8.19200000e+03, 8.51154327e-02, 9.32216644e-02, 1.10149384e-01,\n",
       "       1.85012817e-01, 2.18153000e-01, 6.29425049e-02, 6.50882721e-02,\n",
       "       6.19888306e-02, 6.48498535e-02, 6.19888306e-02, 6.29425049e-02,\n",
       "       6.29425049e-02, 6.31809235e-02, 6.29425049e-02, 6.29425049e-02,\n",
       "       1.48057938e-01, 1.58309937e-01, 1.72138214e-01, 2.49862671e-01,\n",
       "       2.80141830e-01, 1.48057938e-01, 1.56164169e-01, 1.73330307e-01,\n",
       "       2.47955322e-01, 2.81095505e-01])"
      ]
     },
     "execution_count": 56,
     "metadata": {},
     "output_type": "execute_result"
    }
   ],
   "source": [
    "# combine arrays into six-column dataframe\n",
    "\n",
    "import numpy as np\n",
    "\n",
    "df = np.concatenate((col1,col2,col3,col4,col5,col6))\n",
    "df = np.transpose(df)\n",
    "df"
   ]
  },
  {
   "cell_type": "markdown",
   "metadata": {},
   "source": [
    "Use Python matplotlib or Seaborn to generate a measure of the size of the data set on the horizontal axis and with execution time in milliseconds on the vertical axis. The plot should show execution time against problem size for each form of the algorithm being tested."
   ]
  },
  {
   "cell_type": "code",
   "execution_count": 49,
   "metadata": {},
   "outputs": [
    {
     "data": {
      "image/png": "[encoded data removed]",
      "text/plain": [
       "<matplotlib.figure.Figure at 0x10ffb1358>"
      ]
     },
     "metadata": {},
     "output_type": "display_data"
    }
   ],
   "source": [
    "import matplotlib.pyplot as plt\n",
    "\n",
    "plt.scatter(col1,col2)\n",
    "plt.xlabel(\"Size of data\")\n",
    "plt.ylabel(\"Sort Time\")\n",
    "plt.title('Size of Data & Sort Time')\n",
    "plt.show()"
   ]
  },
  {
   "cell_type": "code",
   "execution_count": 64,
   "metadata": {},
   "outputs": [
    {
     "data": {
      "image/png": "[encoded data removed]",
      "text/plain": [
       "<matplotlib.figure.Figure at 0x11164e1d0>"
      ]
     },
     "metadata": {},
     "output_type": "display_data"
    }
   ],
   "source": [
    "plt.scatter(col1,col3)\n",
    "plt.xlabel(\"Size of data\")\n",
    "plt.ylabel(\"Execution time in ms\")\n",
    "plt.title('Size of Data & Linear search time for sorted array')\n",
    "plt.show()"
   ]
  },
  {
   "cell_type": "code",
   "execution_count": 65,
   "metadata": {},
   "outputs": [
    {
     "data": {
      "image/png": "[encoded data removed]",
      "text/plain": [
       "<matplotlib.figure.Figure at 0x10ff8ddd8>"
      ]
     },
     "metadata": {},
     "output_type": "display_data"
    }
   ],
   "source": [
    "plt.scatter(col1,col4)\n",
    "plt.xlabel(\"Size of data\")\n",
    "plt.ylabel(\"Execution time in ms\")\n",
    "plt.title('Size of Data & Binary search time for sorted array (in milliseconds)')\n",
    "plt.show()"
   ]
  },
  {
   "cell_type": "code",
   "execution_count": 66,
   "metadata": {},
   "outputs": [
    {
     "data": {
      "image/png": "[encoded data removed]",
      "text/plain": [
       "<matplotlib.figure.Figure at 0x1116885c0>"
      ]
     },
     "metadata": {},
     "output_type": "display_data"
    }
   ],
   "source": [
    "plt.scatter(col1,col5)\n",
    "plt.xlabel(\"Size of data\")\n",
    "plt.ylabel(\"Execution time in ms\")\n",
    "plt.title('Size of Data & Linear search plus sort times (in milliseconds)')\n",
    "plt.show()"
   ]
  },
  {
   "cell_type": "code",
   "execution_count": 67,
   "metadata": {},
   "outputs": [
    {
     "data": {
      "image/png": "[encoded data removed]",
      "text/plain": [
       "<matplotlib.figure.Figure at 0x1069ee2b0>"
      ]
     },
     "metadata": {},
     "output_type": "display_data"
    }
   ],
   "source": [
    "plt.scatter(col1,col6)\n",
    "plt.xlabel(\"Size of data\")\n",
    "plt.ylabel(\"Execution time in ms\")\n",
    "plt.title('Size of Data & Binary search plus sort times (in milliseconds)')\n",
    "plt.show()"
   ]
  },
  {
   "cell_type": "markdown",
   "metadata": {},
   "source": [
    "Prepare a executive summary of your results, referring to the table and figures you have generated. Explain how your results relate to big O notation. Describe your results in language that management can understand. This summary should be included as comments or text paragraphs in the Jupyter notebook. Explain how the algorithm works and why it is a useful to data engineers."
   ]
  },
  {
   "cell_type": "code",
   "execution_count": null,
   "metadata": {},
   "outputs": [],
   "source": []
  },
  {
   "cell_type": "code",
   "execution_count": null,
   "metadata": {},
   "outputs": [],
   "source": []
  }
 ],
 "metadata": {
  "kernelspec": {
   "display_name": "Python 3",
   "language": "python",
   "name": "python3"
  },
  "language_info": {
   "codemirror_mode": {
    "name": "ipython",
    "version": 3
   },
   "file_extension": ".py",
   "mimetype": "text/x-python",
   "name": "python",
   "nbconvert_exporter": "python",
   "pygments_lexer": "ipython3",
   "version": "3.6.4"
  }
 },
 "nbformat": 4,
 "nbformat_minor": 2
}
